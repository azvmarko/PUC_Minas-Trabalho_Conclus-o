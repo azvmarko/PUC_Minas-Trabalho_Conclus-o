{
 "cells": [
  {
   "cell_type": "markdown",
   "metadata": {},
   "source": [
    "# 1. Sentimentos com Spacy"
   ]
  },
  {
   "cell_type": "code",
   "execution_count": 29,
   "metadata": {},
   "outputs": [],
   "source": [
    "import spacy\n",
    "import pt_core_news_sm\n",
    "import pandas as pd\n",
    "import string\n",
    "import random\n",
    "import seaborn as sns\n",
    "import numpy as np\n",
    "import matplotlib.pyplot as plt"
   ]
  },
  {
   "cell_type": "markdown",
   "metadata": {},
   "source": [
    "# Pré Processamento"
   ]
  },
  {
   "cell_type": "code",
   "execution_count": 2,
   "metadata": {},
   "outputs": [],
   "source": [
    "from spacy.lang.pt.stop_words import STOP_WORDS\n",
    "stop_words = STOP_WORDS\n",
    "stop_words.add('o')"
   ]
  },
  {
   "cell_type": "code",
   "execution_count": 3,
   "metadata": {},
   "outputs": [],
   "source": [
    "#pln = spacy.load(\"pt_core_news_sm\")\n",
    "pln = spacy.load('pt_core_news_sm')\n"
   ]
  },
  {
   "cell_type": "code",
   "execution_count": 4,
   "metadata": {},
   "outputs": [],
   "source": [
    "def preprocessamento(texto):\n",
    "    texto = texto.lower()\n",
    "    documento = pln(texto)\n",
    "    \n",
    "    lista = []\n",
    "    for token in documento:\n",
    "        lista.append(token.lemma_)\n",
    "        \n",
    "    lista = [palavra for palavra in lista if palavra not in stop_words and palavra not in string.punctuation ]\n",
    "    lista = ' '.join([str(elemento) for elemento in lista if not elemento.isdigit()])\n",
    "    \n",
    "    return lista"
   ]
  },
  {
   "cell_type": "markdown",
   "metadata": {},
   "source": [
    "# Carregar o modelo"
   ]
  },
  {
   "cell_type": "code",
   "execution_count": 5,
   "metadata": {},
   "outputs": [
    {
     "data": {
      "text/plain": [
       "<spacy.lang.pt.Portuguese at 0x19ba0d24748>"
      ]
     },
     "execution_count": 5,
     "metadata": {},
     "output_type": "execute_result"
    }
   ],
   "source": [
    "modelo_carregado = spacy.load('modelo')\n",
    "modelo_carregado"
   ]
  },
  {
   "cell_type": "markdown",
   "metadata": {},
   "source": [
    "# Avaliação na base de testes"
   ]
  },
  {
   "cell_type": "code",
   "execution_count": 6,
   "metadata": {},
   "outputs": [
    {
     "data": {
      "text/plain": [
       "(4790, 5)"
      ]
     },
     "execution_count": 6,
     "metadata": {},
     "output_type": "execute_result"
    }
   ],
   "source": [
    "df_DoisIrmaos = pd.read_excel('./data/DoisIrmaos_Revisado.xlsx',\n",
    "                 error_bad_lines=False,\n",
    "                  usecols = ['ID', 'Personagem','Texto', 'Tipo', 'TamanhoFrase'])\n",
    "\n",
    "df_DoisIrmaos.shape"
   ]
  },
  {
   "cell_type": "code",
   "execution_count": 7,
   "metadata": {},
   "outputs": [
    {
     "data": {
      "text/html": [
       "<div>\n",
       "<style scoped>\n",
       "    .dataframe tbody tr th:only-of-type {\n",
       "        vertical-align: middle;\n",
       "    }\n",
       "\n",
       "    .dataframe tbody tr th {\n",
       "        vertical-align: top;\n",
       "    }\n",
       "\n",
       "    .dataframe thead th {\n",
       "        text-align: right;\n",
       "    }\n",
       "</style>\n",
       "<table border=\"1\" class=\"dataframe\">\n",
       "  <thead>\n",
       "    <tr style=\"text-align: right;\">\n",
       "      <th></th>\n",
       "      <th>ID</th>\n",
       "      <th>Personagem</th>\n",
       "      <th>Texto</th>\n",
       "      <th>Tipo</th>\n",
       "      <th>TamanhoFrase</th>\n",
       "    </tr>\n",
       "  </thead>\n",
       "  <tbody>\n",
       "    <tr>\n",
       "      <td>0</td>\n",
       "      <td>1</td>\n",
       "      <td>Narrador</td>\n",
       "      <td>Zana teve de deixar tudo: o bairro portuário d...</td>\n",
       "      <td>Narração</td>\n",
       "      <td>406</td>\n",
       "    </tr>\n",
       "    <tr>\n",
       "      <td>1</td>\n",
       "      <td>2</td>\n",
       "      <td>Narrador</td>\n",
       "      <td>Perto do alpendre, o cheiro das açucenas-branc...</td>\n",
       "      <td>Narração</td>\n",
       "      <td>84</td>\n",
       "    </tr>\n",
       "    <tr>\n",
       "      <td>2</td>\n",
       "      <td>3</td>\n",
       "      <td>Narrador</td>\n",
       "      <td>Então ela sentava no chão, rezava sozinha e ch...</td>\n",
       "      <td>Narração</td>\n",
       "      <td>79</td>\n",
       "    </tr>\n",
       "    <tr>\n",
       "      <td>3</td>\n",
       "      <td>4</td>\n",
       "      <td>Narrador</td>\n",
       "      <td>Antes de abandonar a casa, Zana via o vulto do...</td>\n",
       "      <td>Narração</td>\n",
       "      <td>163</td>\n",
       "    </tr>\n",
       "    <tr>\n",
       "      <td>4</td>\n",
       "      <td>5</td>\n",
       "      <td>Narrador</td>\n",
       "      <td>Durante o dia eu a ouvia repetir as palavras d...</td>\n",
       "      <td>Narração</td>\n",
       "      <td>59</td>\n",
       "    </tr>\n",
       "  </tbody>\n",
       "</table>\n",
       "</div>"
      ],
      "text/plain": [
       "   ID Personagem                                              Texto      Tipo  \\\n",
       "0   1   Narrador  Zana teve de deixar tudo: o bairro portuário d...  Narração   \n",
       "1   2   Narrador  Perto do alpendre, o cheiro das açucenas-branc...  Narração   \n",
       "2   3   Narrador  Então ela sentava no chão, rezava sozinha e ch...  Narração   \n",
       "3   4   Narrador  Antes de abandonar a casa, Zana via o vulto do...  Narração   \n",
       "4   5   Narrador  Durante o dia eu a ouvia repetir as palavras d...  Narração   \n",
       "\n",
       "   TamanhoFrase  \n",
       "0           406  \n",
       "1            84  \n",
       "2            79  \n",
       "3           163  \n",
       "4            59  "
      ]
     },
     "execution_count": 7,
     "metadata": {},
     "output_type": "execute_result"
    }
   ],
   "source": [
    "df_DoisIrmaos.head()"
   ]
  },
  {
   "cell_type": "code",
   "execution_count": 8,
   "metadata": {},
   "outputs": [
    {
     "data": {
      "text/plain": [
       "ID              0\n",
       "Personagem      0\n",
       "Texto           0\n",
       "Tipo            0\n",
       "TamanhoFrase    0\n",
       "dtype: int64"
      ]
     },
     "execution_count": 8,
     "metadata": {},
     "output_type": "execute_result"
    }
   ],
   "source": [
    "df_DoisIrmaos.isnull().sum()"
   ]
  },
  {
   "cell_type": "code",
   "execution_count": 9,
   "metadata": {},
   "outputs": [],
   "source": [
    "df_DoisIrmaos['Texto_novo'] = df_DoisIrmaos['Texto'].apply(preprocessamento)"
   ]
  },
  {
   "cell_type": "code",
   "execution_count": 10,
   "metadata": {},
   "outputs": [
    {
     "data": {
      "text/html": [
       "<div>\n",
       "<style scoped>\n",
       "    .dataframe tbody tr th:only-of-type {\n",
       "        vertical-align: middle;\n",
       "    }\n",
       "\n",
       "    .dataframe tbody tr th {\n",
       "        vertical-align: top;\n",
       "    }\n",
       "\n",
       "    .dataframe thead th {\n",
       "        text-align: right;\n",
       "    }\n",
       "</style>\n",
       "<table border=\"1\" class=\"dataframe\">\n",
       "  <thead>\n",
       "    <tr style=\"text-align: right;\">\n",
       "      <th></th>\n",
       "      <th>ID</th>\n",
       "      <th>Personagem</th>\n",
       "      <th>Texto</th>\n",
       "      <th>Tipo</th>\n",
       "      <th>TamanhoFrase</th>\n",
       "      <th>Texto_novo</th>\n",
       "    </tr>\n",
       "  </thead>\n",
       "  <tbody>\n",
       "    <tr>\n",
       "      <td>0</td>\n",
       "      <td>1</td>\n",
       "      <td>Narrador</td>\n",
       "      <td>Zana teve de deixar tudo: o bairro portuário d...</td>\n",
       "      <td>Narração</td>\n",
       "      <td>406</td>\n",
       "      <td>zana deixar bairro portuário manaus ruir decli...</td>\n",
       "    </tr>\n",
       "    <tr>\n",
       "      <td>1</td>\n",
       "      <td>2</td>\n",
       "      <td>Narrador</td>\n",
       "      <td>Perto do alpendre, o cheiro das açucenas-branc...</td>\n",
       "      <td>Narração</td>\n",
       "      <td>84</td>\n",
       "      <td>alpendrar cheirar açucenas-brancas misturar fi...</td>\n",
       "    </tr>\n",
       "    <tr>\n",
       "      <td>2</td>\n",
       "      <td>3</td>\n",
       "      <td>Narrador</td>\n",
       "      <td>Então ela sentava no chão, rezava sozinha e ch...</td>\n",
       "      <td>Narração</td>\n",
       "      <td>79</td>\n",
       "      <td>sentar chão rezar e chorar desejar voltar omar</td>\n",
       "    </tr>\n",
       "    <tr>\n",
       "      <td>3</td>\n",
       "      <td>4</td>\n",
       "      <td>Narrador</td>\n",
       "      <td>Antes de abandonar a casa, Zana via o vulto do...</td>\n",
       "      <td>Narração</td>\n",
       "      <td>163</td>\n",
       "      <td>antar abandonar casar zana vulto pai e esposar...</td>\n",
       "    </tr>\n",
       "    <tr>\n",
       "      <td>4</td>\n",
       "      <td>5</td>\n",
       "      <td>Narrador</td>\n",
       "      <td>Durante o dia eu a ouvia repetir as palavras d...</td>\n",
       "      <td>Narração</td>\n",
       "      <td>59</td>\n",
       "      <td>durante dia ouvir repetir palavra pesadelo</td>\n",
       "    </tr>\n",
       "  </tbody>\n",
       "</table>\n",
       "</div>"
      ],
      "text/plain": [
       "   ID Personagem                                              Texto      Tipo  \\\n",
       "0   1   Narrador  Zana teve de deixar tudo: o bairro portuário d...  Narração   \n",
       "1   2   Narrador  Perto do alpendre, o cheiro das açucenas-branc...  Narração   \n",
       "2   3   Narrador  Então ela sentava no chão, rezava sozinha e ch...  Narração   \n",
       "3   4   Narrador  Antes de abandonar a casa, Zana via o vulto do...  Narração   \n",
       "4   5   Narrador  Durante o dia eu a ouvia repetir as palavras d...  Narração   \n",
       "\n",
       "   TamanhoFrase                                         Texto_novo  \n",
       "0           406  zana deixar bairro portuário manaus ruir decli...  \n",
       "1            84  alpendrar cheirar açucenas-brancas misturar fi...  \n",
       "2            79     sentar chão rezar e chorar desejar voltar omar  \n",
       "3           163  antar abandonar casar zana vulto pai e esposar...  \n",
       "4            59         durante dia ouvir repetir palavra pesadelo  "
      ]
     },
     "execution_count": 10,
     "metadata": {},
     "output_type": "execute_result"
    }
   ],
   "source": [
    "df_DoisIrmaos.head()"
   ]
  },
  {
   "cell_type": "code",
   "execution_count": 11,
   "metadata": {},
   "outputs": [],
   "source": [
    "previsoes = []\n",
    "for texto in df_DoisIrmaos['Texto_novo']:    \n",
    "    previsao = modelo_carregado(texto)\n",
    "    previsoes.append(previsao.cats)"
   ]
  },
  {
   "cell_type": "code",
   "execution_count": 12,
   "metadata": {},
   "outputs": [],
   "source": [
    "previsoes_final = []\n",
    "for previsao in previsoes:\n",
    "    if previsao['ALEGRIA']>previsao['MEDO'] and previsao['ALEGRIA']>previsao['RAIVA'] and previsao['ALEGRIA']>previsao['TRISTEZA']:\n",
    "        previsoes_final.append('alegria')\n",
    "    elif previsao['TRISTEZA']>previsao['MEDO'] and previsao['TRISTEZA']>previsao['RAIVA'] and previsao['TRISTEZA']>previsao['ALEGRIA']:\n",
    "        previsoes_final.append('tristeza')\n",
    "    elif previsao['MEDO']>previsao['TRISTEZA'] and previsao['MEDO']>previsao['RAIVA'] and previsao['MEDO']>previsao['ALEGRIA']:\n",
    "        previsoes_final.append('medo')\n",
    "    elif previsao['RAIVA']>previsao['TRISTEZA']  and previsao['RAIVA']>previsao['ALEGRIA']  and previsao['RAIVA']>previsao['MEDO']:\n",
    "        previsoes_final.append('raiva')\n",
    "    else:\n",
    "        previsoes_final.append('sem rótulo')\n",
    "\n",
    "previsoes_final = np.array(previsoes_final)"
   ]
  },
  {
   "cell_type": "code",
   "execution_count": 13,
   "metadata": {},
   "outputs": [],
   "source": [
    "df_DoisIrmaos['Emoção'] = previsoes_final"
   ]
  },
  {
   "cell_type": "code",
   "execution_count": 30,
   "metadata": {},
   "outputs": [
    {
     "data": {
      "text/plain": [
       "Text(0.5, 1.0, 'Falas de Omar - Dois Irmãos')"
      ]
     },
     "execution_count": 30,
     "metadata": {},
     "output_type": "execute_result"
    },
    {
     "data": {
      "image/png": "[encoded data removed]",
      "text/plain": [
       "<Figure size 432x288 with 1 Axes>"
      ]
     },
     "metadata": {
      "needs_background": "light"
     },
     "output_type": "display_data"
    }
   ],
   "source": [
    "df_omar = df_DoisIrmaos[df_DoisIrmaos.Personagem=='Omar']\n",
    "categorias= [\"raiva\", \"tristeza\",\"alegria\", \"sem rótulo\"]\n",
    "sns.countplot(df_omar['Emoção'], label = 'Contagem', palette=\"Set3\", order = categorias)\n",
    "plt.title(\"Falas de Omar - Dois Irmãos\")"
   ]
  },
  {
   "cell_type": "code",
   "execution_count": 31,
   "metadata": {},
   "outputs": [
    {
     "data": {
      "text/plain": [
       "Text(0.5, 1.0, 'Falas de Yaqub - Dois Irmãos')"
      ]
     },
     "execution_count": 31,
     "metadata": {},
     "output_type": "execute_result"
    },
    {
     "data": {
      "image/png": "[encoded data removed]",
      "text/plain": [
       "<Figure size 432x288 with 1 Axes>"
      ]
     },
     "metadata": {
      "needs_background": "light"
     },
     "output_type": "display_data"
    }
   ],
   "source": [
    "df_Yaqub = df_DoisIrmaos[df_DoisIrmaos.Personagem=='Yaqub']\n",
    "categorias= [\"raiva\", \"tristeza\",\"alegria\", \"sem rótulo\"]\n",
    "sns.countplot(df_Yaqub['Emoção'], label = 'Contagem', palette=\"Set3\" , order = categorias)\n",
    "plt.title(\"Falas de Yaqub - Dois Irmãos\")"
   ]
  },
  {
   "cell_type": "code",
   "execution_count": 32,
   "metadata": {},
   "outputs": [
    {
     "data": {
      "text/plain": [
       "Text(0.5, 1.0, 'Falas de Zana - Dois Irmãos')"
      ]
     },
     "execution_count": 32,
     "metadata": {},
     "output_type": "execute_result"
    },
    {
     "data": {
      "image/png": "[encoded data removed]",
      "text/plain": [
       "<Figure size 432x288 with 1 Axes>"
      ]
     },
     "metadata": {
      "needs_background": "light"
     },
     "output_type": "display_data"
    }
   ],
   "source": [
    "df_Zana = df_DoisIrmaos[df_DoisIrmaos.Personagem=='Zana']\n",
    "categorias= [\"raiva\", \"tristeza\",\"alegria\", \"sem rótulo\"]\n",
    "sns.countplot(df_Zana['Emoção'], label = 'Contagem', palette=\"Set3\" , order = categorias)\n",
    "plt.title(\"Falas de Zana - Dois Irmãos\")"
   ]
  },
  {
   "cell_type": "code",
   "execution_count": 33,
   "metadata": {},
   "outputs": [
    {
     "data": {
      "text/plain": [
       "Text(0.5, 1.0, 'Falas de Zana - Dois Irmãos')"
      ]
     },
     "execution_count": 33,
     "metadata": {},
     "output_type": "execute_result"
    },
    {
     "data": {
      "image/png": "[encoded data removed]",
      "text/plain": [
       "<Figure size 432x288 with 1 Axes>"
      ]
     },
     "metadata": {
      "needs_background": "light"
     },
     "output_type": "display_data"
    }
   ],
   "source": [
    "df_Halim = df_DoisIrmaos[df_DoisIrmaos.Personagem=='Halim']\n",
    "categorias= [\"raiva\", \"tristeza\",\"alegria\", \"sem rótulo\"]\n",
    "sns.countplot(df_Halim['Emoção'], label = 'Contagem', palette=\"Set3\" , order = categorias)\n",
    "plt.title(\"Falas de Zana - Dois Irmãos\")"
   ]
  }
 ],
 "metadata": {
  "celltoolbar": "Raw Cell Format",
  "kernelspec": {
   "display_name": "Python 3",
   "language": "python",
   "name": "python3"
  },
  "language_info": {
   "codemirror_mode": {
    "name": "ipython",
    "version": 3
   },
   "file_extension": ".py",
   "mimetype": "text/x-python",
   "name": "python",
   "nbconvert_exporter": "python",
   "pygments_lexer": "ipython3",
   "version": "3.7.4"
  }
 },
 "nbformat": 4,
 "nbformat_minor": 2
}
