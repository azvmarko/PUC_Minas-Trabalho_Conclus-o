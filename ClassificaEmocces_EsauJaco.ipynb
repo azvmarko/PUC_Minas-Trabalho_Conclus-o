{
 "cells": [
  {
   "cell_type": "markdown",
   "metadata": {},
   "source": [
    "# 1. Sentimentos com Spacy - Esaú e Jacó"
   ]
  },
  {
   "cell_type": "code",
   "execution_count": 21,
   "metadata": {},
   "outputs": [],
   "source": [
    "import spacy\n",
    "import pt_core_news_sm\n",
    "import pandas as pd\n",
    "import string\n",
    "import random\n",
    "import seaborn as sns\n",
    "import numpy as np\n",
    "import matplotlib.pyplot as plt"
   ]
  },
  {
   "cell_type": "markdown",
   "metadata": {},
   "source": [
    "# 2. Pré Processamento"
   ]
  },
  {
   "cell_type": "code",
   "execution_count": 2,
   "metadata": {},
   "outputs": [],
   "source": [
    "from spacy.lang.pt.stop_words import STOP_WORDS\n",
    "stop_words = STOP_WORDS\n",
    "stop_words.add('o')"
   ]
  },
  {
   "cell_type": "code",
   "execution_count": 3,
   "metadata": {},
   "outputs": [],
   "source": [
    "pln = spacy.load('pt_core_news_sm')"
   ]
  },
  {
   "cell_type": "code",
   "execution_count": 4,
   "metadata": {},
   "outputs": [],
   "source": [
    "def preprocessamento(texto):\n",
    "    texto = texto.lower()\n",
    "    documento = pln(texto)    \n",
    "    lista = []\n",
    "    for token in documento:\n",
    "        lista.append(token.lemma_)        \n",
    "    lista = [palavra for palavra in lista if palavra not in stop_words and palavra not in string.punctuation ]\n",
    "    lista = ' '.join([str(elemento) for elemento in lista if not elemento.isdigit()])    \n",
    "    return lista"
   ]
  },
  {
   "cell_type": "markdown",
   "metadata": {},
   "source": [
    "# 3. Carregando o modelo"
   ]
  },
  {
   "cell_type": "code",
   "execution_count": 5,
   "metadata": {},
   "outputs": [
    {
     "data": {
      "text/plain": [
       "<spacy.lang.pt.Portuguese at 0x1c5afa98708>"
      ]
     },
     "execution_count": 5,
     "metadata": {},
     "output_type": "execute_result"
    }
   ],
   "source": [
    "modelo_carregado = spacy.load('modelo')\n",
    "modelo_carregado"
   ]
  },
  {
   "cell_type": "markdown",
   "metadata": {},
   "source": [
    "# 4. Importando o Conjunto de Dados"
   ]
  },
  {
   "cell_type": "code",
   "execution_count": 6,
   "metadata": {},
   "outputs": [
    {
     "data": {
      "text/plain": [
       "(4824, 5)"
      ]
     },
     "execution_count": 6,
     "metadata": {},
     "output_type": "execute_result"
    }
   ],
   "source": [
    "df_esau = pd.read_excel('./data/EsaueJaco_Revisado.xlsx',\n",
    "                 error_bad_lines=False,\n",
    "                  usecols = ['ID', 'Personagem','Texto', 'Tipo', 'TamanhoFrase'])\n",
    "\n",
    "df_esau.shape"
   ]
  },
  {
   "cell_type": "code",
   "execution_count": 7,
   "metadata": {},
   "outputs": [
    {
     "data": {
      "text/html": [
       "<div>\n",
       "<style scoped>\n",
       "    .dataframe tbody tr th:only-of-type {\n",
       "        vertical-align: middle;\n",
       "    }\n",
       "\n",
       "    .dataframe tbody tr th {\n",
       "        vertical-align: top;\n",
       "    }\n",
       "\n",
       "    .dataframe thead th {\n",
       "        text-align: right;\n",
       "    }\n",
       "</style>\n",
       "<table border=\"1\" class=\"dataframe\">\n",
       "  <thead>\n",
       "    <tr style=\"text-align: right;\">\n",
       "      <th></th>\n",
       "      <th>ID</th>\n",
       "      <th>Personagem</th>\n",
       "      <th>Texto</th>\n",
       "      <th>Tipo</th>\n",
       "      <th>TamanhoFrase</th>\n",
       "    </tr>\n",
       "  </thead>\n",
       "  <tbody>\n",
       "    <tr>\n",
       "      <td>0</td>\n",
       "      <td>1</td>\n",
       "      <td>Narrador</td>\n",
       "      <td>Era a primeira vez que as duas iam ao Morro d...</td>\n",
       "      <td>Narração</td>\n",
       "      <td>56</td>\n",
       "    </tr>\n",
       "    <tr>\n",
       "      <td>1</td>\n",
       "      <td>2</td>\n",
       "      <td>Narrador</td>\n",
       "      <td>Começaram de subir pelo lado da Rua do Carmo.</td>\n",
       "      <td>Narração</td>\n",
       "      <td>46</td>\n",
       "    </tr>\n",
       "    <tr>\n",
       "      <td>2</td>\n",
       "      <td>3</td>\n",
       "      <td>Narrador</td>\n",
       "      <td>Muita gente há no Rio de Janeiro que nunca lá...</td>\n",
       "      <td>Narração</td>\n",
       "      <td>121</td>\n",
       "    </tr>\n",
       "    <tr>\n",
       "      <td>3</td>\n",
       "      <td>4</td>\n",
       "      <td>Narrador</td>\n",
       "      <td>Nem todos podem dizer que conhecem uma cidade...</td>\n",
       "      <td>Narração</td>\n",
       "      <td>55</td>\n",
       "    </tr>\n",
       "    <tr>\n",
       "      <td>4</td>\n",
       "      <td>5</td>\n",
       "      <td>Narrador</td>\n",
       "      <td>Um velho inglês, que aliás andara terras e te...</td>\n",
       "      <td>Narração</td>\n",
       "      <td>182</td>\n",
       "    </tr>\n",
       "  </tbody>\n",
       "</table>\n",
       "</div>"
      ],
      "text/plain": [
       "   ID Personagem                                              Texto      Tipo  \\\n",
       "0   1   Narrador   Era a primeira vez que as duas iam ao Morro d...  Narração   \n",
       "1   2   Narrador      Começaram de subir pelo lado da Rua do Carmo.  Narração   \n",
       "2   3   Narrador   Muita gente há no Rio de Janeiro que nunca lá...  Narração   \n",
       "3   4   Narrador   Nem todos podem dizer que conhecem uma cidade...  Narração   \n",
       "4   5   Narrador   Um velho inglês, que aliás andara terras e te...  Narração   \n",
       "\n",
       "   TamanhoFrase  \n",
       "0            56  \n",
       "1            46  \n",
       "2           121  \n",
       "3            55  \n",
       "4           182  "
      ]
     },
     "execution_count": 7,
     "metadata": {},
     "output_type": "execute_result"
    }
   ],
   "source": [
    "df_esau.head()"
   ]
  },
  {
   "cell_type": "code",
   "execution_count": 8,
   "metadata": {},
   "outputs": [
    {
     "data": {
      "text/plain": [
       "ID              0\n",
       "Personagem      0\n",
       "Texto           0\n",
       "Tipo            0\n",
       "TamanhoFrase    0\n",
       "dtype: int64"
      ]
     },
     "execution_count": 8,
     "metadata": {},
     "output_type": "execute_result"
    }
   ],
   "source": [
    "df_esau.isnull().sum()"
   ]
  },
  {
   "cell_type": "markdown",
   "metadata": {},
   "source": [
    "# 5. Pré-Processamento"
   ]
  },
  {
   "cell_type": "code",
   "execution_count": 9,
   "metadata": {},
   "outputs": [],
   "source": [
    "df_esau['Texto_novo'] = df_esau['Texto'].apply(preprocessamento)"
   ]
  },
  {
   "cell_type": "code",
   "execution_count": 10,
   "metadata": {},
   "outputs": [
    {
     "data": {
      "text/html": [
       "<div>\n",
       "<style scoped>\n",
       "    .dataframe tbody tr th:only-of-type {\n",
       "        vertical-align: middle;\n",
       "    }\n",
       "\n",
       "    .dataframe tbody tr th {\n",
       "        vertical-align: top;\n",
       "    }\n",
       "\n",
       "    .dataframe thead th {\n",
       "        text-align: right;\n",
       "    }\n",
       "</style>\n",
       "<table border=\"1\" class=\"dataframe\">\n",
       "  <thead>\n",
       "    <tr style=\"text-align: right;\">\n",
       "      <th></th>\n",
       "      <th>ID</th>\n",
       "      <th>Personagem</th>\n",
       "      <th>Texto</th>\n",
       "      <th>Tipo</th>\n",
       "      <th>TamanhoFrase</th>\n",
       "      <th>Texto_novo</th>\n",
       "    </tr>\n",
       "  </thead>\n",
       "  <tbody>\n",
       "    <tr>\n",
       "      <td>0</td>\n",
       "      <td>1</td>\n",
       "      <td>Narrador</td>\n",
       "      <td>Era a primeira vez que as duas iam ao Morro d...</td>\n",
       "      <td>Narração</td>\n",
       "      <td>56</td>\n",
       "      <td>morrer castelo</td>\n",
       "    </tr>\n",
       "    <tr>\n",
       "      <td>1</td>\n",
       "      <td>2</td>\n",
       "      <td>Narrador</td>\n",
       "      <td>Começaram de subir pelo lado da Rua do Carmo.</td>\n",
       "      <td>Narração</td>\n",
       "      <td>46</td>\n",
       "      <td>começar subir pelar ruir carmo</td>\n",
       "    </tr>\n",
       "    <tr>\n",
       "      <td>2</td>\n",
       "      <td>3</td>\n",
       "      <td>Narrador</td>\n",
       "      <td>Muita gente há no Rio de Janeiro que nunca lá...</td>\n",
       "      <td>Narração</td>\n",
       "      <td>121</td>\n",
       "      <td>gente haver rir janeiro haver morrer nascer ...</td>\n",
       "    </tr>\n",
       "    <tr>\n",
       "      <td>3</td>\n",
       "      <td>4</td>\n",
       "      <td>Narrador</td>\n",
       "      <td>Nem todos podem dizer que conhecem uma cidade...</td>\n",
       "      <td>Narração</td>\n",
       "      <td>55</td>\n",
       "      <td>conhecer umar cidade inteiro</td>\n",
       "    </tr>\n",
       "    <tr>\n",
       "      <td>4</td>\n",
       "      <td>5</td>\n",
       "      <td>Narrador</td>\n",
       "      <td>Um velho inglês, que aliás andara terras e te...</td>\n",
       "      <td>Narração</td>\n",
       "      <td>182</td>\n",
       "      <td>velho inglês aliás andar terra e terra confi...</td>\n",
       "    </tr>\n",
       "  </tbody>\n",
       "</table>\n",
       "</div>"
      ],
      "text/plain": [
       "   ID Personagem                                              Texto      Tipo  \\\n",
       "0   1   Narrador   Era a primeira vez que as duas iam ao Morro d...  Narração   \n",
       "1   2   Narrador      Começaram de subir pelo lado da Rua do Carmo.  Narração   \n",
       "2   3   Narrador   Muita gente há no Rio de Janeiro que nunca lá...  Narração   \n",
       "3   4   Narrador   Nem todos podem dizer que conhecem uma cidade...  Narração   \n",
       "4   5   Narrador   Um velho inglês, que aliás andara terras e te...  Narração   \n",
       "\n",
       "   TamanhoFrase                                         Texto_novo  \n",
       "0            56                                     morrer castelo  \n",
       "1            46                     começar subir pelar ruir carmo  \n",
       "2           121    gente haver rir janeiro haver morrer nascer ...  \n",
       "3            55                       conhecer umar cidade inteiro  \n",
       "4           182    velho inglês aliás andar terra e terra confi...  "
      ]
     },
     "execution_count": 10,
     "metadata": {},
     "output_type": "execute_result"
    }
   ],
   "source": [
    "df_esau.head()"
   ]
  },
  {
   "cell_type": "markdown",
   "metadata": {},
   "source": [
    "# 6. Aplicando o Modelo no Conjunto de Dados"
   ]
  },
  {
   "cell_type": "code",
   "execution_count": 11,
   "metadata": {},
   "outputs": [],
   "source": [
    "previsoes = []\n",
    "for texto in df_esau['Texto_novo']:    \n",
    "    previsao = modelo_carregado(texto)\n",
    "    previsoes.append(previsao.cats)"
   ]
  },
  {
   "cell_type": "code",
   "execution_count": 12,
   "metadata": {},
   "outputs": [],
   "source": [
    "previsoes_final = []\n",
    "for previsao in previsoes:\n",
    "    if previsao['ALEGRIA']>previsao['MEDO'] and previsao['ALEGRIA']>previsao['RAIVA'] and previsao['ALEGRIA']>previsao['TRISTEZA']:\n",
    "        previsoes_final.append('alegria')\n",
    "    elif previsao['TRISTEZA']>previsao['MEDO'] and previsao['TRISTEZA']>previsao['RAIVA'] and previsao['TRISTEZA']>previsao['ALEGRIA']:\n",
    "        previsoes_final.append('tristeza')\n",
    "    elif previsao['MEDO']>previsao['TRISTEZA'] and previsao['MEDO']>previsao['RAIVA'] and previsao['MEDO']>previsao['ALEGRIA']:\n",
    "        previsoes_final.append('medo')\n",
    "    elif previsao['RAIVA']>previsao['TRISTEZA']  and previsao['RAIVA']>previsao['ALEGRIA']  and previsao['RAIVA']>previsao['MEDO']:\n",
    "        previsoes_final.append('raiva')\n",
    "    else:\n",
    "        previsoes_final.append('sem rótulo')\n",
    "\n",
    "previsoes_final = np.array(previsoes_final)\n",
    "    "
   ]
  },
  {
   "cell_type": "code",
   "execution_count": 13,
   "metadata": {},
   "outputs": [],
   "source": [
    "df_esau['Emoção'] = previsoes_final"
   ]
  },
  {
   "cell_type": "code",
   "execution_count": 14,
   "metadata": {},
   "outputs": [
    {
     "data": {
      "text/html": [
       "<div>\n",
       "<style scoped>\n",
       "    .dataframe tbody tr th:only-of-type {\n",
       "        vertical-align: middle;\n",
       "    }\n",
       "\n",
       "    .dataframe tbody tr th {\n",
       "        vertical-align: top;\n",
       "    }\n",
       "\n",
       "    .dataframe thead th {\n",
       "        text-align: right;\n",
       "    }\n",
       "</style>\n",
       "<table border=\"1\" class=\"dataframe\">\n",
       "  <thead>\n",
       "    <tr style=\"text-align: right;\">\n",
       "      <th></th>\n",
       "      <th>ID</th>\n",
       "      <th>Personagem</th>\n",
       "      <th>Texto</th>\n",
       "      <th>Tipo</th>\n",
       "      <th>TamanhoFrase</th>\n",
       "      <th>Texto_novo</th>\n",
       "      <th>Emoção</th>\n",
       "    </tr>\n",
       "  </thead>\n",
       "  <tbody>\n",
       "    <tr>\n",
       "      <td>0</td>\n",
       "      <td>1</td>\n",
       "      <td>Narrador</td>\n",
       "      <td>Era a primeira vez que as duas iam ao Morro d...</td>\n",
       "      <td>Narração</td>\n",
       "      <td>56</td>\n",
       "      <td>morrer castelo</td>\n",
       "      <td>raiva</td>\n",
       "    </tr>\n",
       "    <tr>\n",
       "      <td>1</td>\n",
       "      <td>2</td>\n",
       "      <td>Narrador</td>\n",
       "      <td>Começaram de subir pelo lado da Rua do Carmo.</td>\n",
       "      <td>Narração</td>\n",
       "      <td>46</td>\n",
       "      <td>começar subir pelar ruir carmo</td>\n",
       "      <td>raiva</td>\n",
       "    </tr>\n",
       "    <tr>\n",
       "      <td>2</td>\n",
       "      <td>3</td>\n",
       "      <td>Narrador</td>\n",
       "      <td>Muita gente há no Rio de Janeiro que nunca lá...</td>\n",
       "      <td>Narração</td>\n",
       "      <td>121</td>\n",
       "      <td>gente haver rir janeiro haver morrer nascer ...</td>\n",
       "      <td>raiva</td>\n",
       "    </tr>\n",
       "    <tr>\n",
       "      <td>3</td>\n",
       "      <td>4</td>\n",
       "      <td>Narrador</td>\n",
       "      <td>Nem todos podem dizer que conhecem uma cidade...</td>\n",
       "      <td>Narração</td>\n",
       "      <td>55</td>\n",
       "      <td>conhecer umar cidade inteiro</td>\n",
       "      <td>alegria</td>\n",
       "    </tr>\n",
       "    <tr>\n",
       "      <td>4</td>\n",
       "      <td>5</td>\n",
       "      <td>Narrador</td>\n",
       "      <td>Um velho inglês, que aliás andara terras e te...</td>\n",
       "      <td>Narração</td>\n",
       "      <td>182</td>\n",
       "      <td>velho inglês aliás andar terra e terra confi...</td>\n",
       "      <td>raiva</td>\n",
       "    </tr>\n",
       "  </tbody>\n",
       "</table>\n",
       "</div>"
      ],
      "text/plain": [
       "   ID Personagem                                              Texto      Tipo  \\\n",
       "0   1   Narrador   Era a primeira vez que as duas iam ao Morro d...  Narração   \n",
       "1   2   Narrador      Começaram de subir pelo lado da Rua do Carmo.  Narração   \n",
       "2   3   Narrador   Muita gente há no Rio de Janeiro que nunca lá...  Narração   \n",
       "3   4   Narrador   Nem todos podem dizer que conhecem uma cidade...  Narração   \n",
       "4   5   Narrador   Um velho inglês, que aliás andara terras e te...  Narração   \n",
       "\n",
       "   TamanhoFrase                                         Texto_novo   Emoção  \n",
       "0            56                                     morrer castelo    raiva  \n",
       "1            46                     começar subir pelar ruir carmo    raiva  \n",
       "2           121    gente haver rir janeiro haver morrer nascer ...    raiva  \n",
       "3            55                       conhecer umar cidade inteiro  alegria  \n",
       "4           182    velho inglês aliás andar terra e terra confi...    raiva  "
      ]
     },
     "execution_count": 14,
     "metadata": {},
     "output_type": "execute_result"
    }
   ],
   "source": [
    "df_esau.head()"
   ]
  },
  {
   "cell_type": "markdown",
   "metadata": {},
   "source": [
    "# 7. Resultados"
   ]
  },
  {
   "cell_type": "code",
   "execution_count": 25,
   "metadata": {},
   "outputs": [
    {
     "data": {
      "text/plain": [
       "Text(0.5, 1.0, 'Falas de Paulo - Esaú e Jacó')"
      ]
     },
     "execution_count": 25,
     "metadata": {},
     "output_type": "execute_result"
    },
    {
     "data": {
      "image/png": "[encoded data removed]",
      "text/plain": [
       "<Figure size 432x288 with 1 Axes>"
      ]
     },
     "metadata": {
      "needs_background": "light"
     },
     "output_type": "display_data"
    }
   ],
   "source": [
    "df_Paulo = df_esau[df_esau.Personagem=='Paulo']\n",
    "categorias= [\"raiva\", \"tristeza\",\"alegria\", \"sem rótulo\"]\n",
    "sns.countplot(df_Paulo['Emoção'], label = 'Contagem', palette=\"Set3\", order = categorias)\n",
    "plt.title(\"Falas de Paulo - Esaú e Jacó\")"
   ]
  },
  {
   "cell_type": "code",
   "execution_count": 24,
   "metadata": {},
   "outputs": [
    {
     "data": {
      "text/plain": [
       "Text(0.5, 1.0, 'Falas de Pedro - Esaú e Jacó')"
      ]
     },
     "execution_count": 24,
     "metadata": {},
     "output_type": "execute_result"
    },
    {
     "data": {
      "image/png": "[encoded data removed]",
      "text/plain": [
       "<Figure size 432x288 with 1 Axes>"
      ]
     },
     "metadata": {
      "needs_background": "light"
     },
     "output_type": "display_data"
    }
   ],
   "source": [
    "df_Pedro = df_esau[df_esau.Personagem=='Pedro']\n",
    "categorias= [\"raiva\", \"tristeza\",\"alegria\", \"sem rótulo\"]\n",
    "sns.countplot(df_Pedro['Emoção'], label = 'Contagem', palette=\"Set3\", order = categorias)\n",
    "plt.title(\"Falas de Pedro - Esaú e Jacó\")"
   ]
  },
  {
   "cell_type": "code",
   "execution_count": 26,
   "metadata": {},
   "outputs": [
    {
     "data": {
      "text/plain": [
       "Text(0.5, 1.0, 'Falas de Flora - Esaú e Jacó')"
      ]
     },
     "execution_count": 26,
     "metadata": {},
     "output_type": "execute_result"
    },
    {
     "data": {
      "image/png": "[encoded data removed]",
      "text/plain": [
       "<Figure size 432x288 with 1 Axes>"
      ]
     },
     "metadata": {
      "needs_background": "light"
     },
     "output_type": "display_data"
    }
   ],
   "source": [
    "df_Flora = df_esau[df_esau.Personagem=='Flora']\n",
    "categorias= [\"raiva\", \"tristeza\",\"alegria\", \"sem rótulo\"]\n",
    "sns.countplot(df_Flora['Emoção'], label = 'Contagem', palette=\"Set3\", order = categorias)\n",
    "plt.title(\"Falas de Flora - Esaú e Jacó\")"
   ]
  },
  {
   "cell_type": "code",
   "execution_count": 28,
   "metadata": {},
   "outputs": [
    {
     "data": {
      "text/plain": [
       "Text(0.5, 1.0, 'Falas de Natividade - Esaú e Jacó')"
      ]
     },
     "execution_count": 28,
     "metadata": {},
     "output_type": "execute_result"
    },
    {
     "data": {
      "image/png": "[encoded data removed]",
      "text/plain": [
       "<Figure size 432x288 with 1 Axes>"
      ]
     },
     "metadata": {
      "needs_background": "light"
     },
     "output_type": "display_data"
    }
   ],
   "source": [
    "df_Natividade = df_esau[df_esau.Personagem=='Natividade']\n",
    "categorias= [\"raiva\", \"tristeza\",\"alegria\", \"sem rótulo\"]\n",
    "sns.countplot(df_Natividade['Emoção'], label = 'Contagem', palette=\"Set3\", order = categorias)\n",
    "plt.title(\"Falas de Natividade - Esaú e Jacó\")"
   ]
  },
  {
   "cell_type": "code",
   "execution_count": 29,
   "metadata": {},
   "outputs": [
    {
     "data": {
      "text/plain": [
       "Text(0.5, 1.0, 'Falas - Esaú e Jacó')"
      ]
     },
     "execution_count": 29,
     "metadata": {},
     "output_type": "execute_result"
    },
    {
     "data": {
      "image/png": "[encoded data removed]",
      "text/plain": [
       "<Figure size 432x288 with 1 Axes>"
      ]
     },
     "metadata": {
      "needs_background": "light"
     },
     "output_type": "display_data"
    }
   ],
   "source": [
    "categorias= [\"raiva\", \"tristeza\",\"alegria\", \"sem rótulo\"]\n",
    "sns.countplot(df_esau['Emoção'], label = 'Contagem', palette=\"Set3\", order = categorias)\n",
    "plt.title(\"Falas - Esaú e Jacó\")"
   ]
  },
  {
   "cell_type": "code",
   "execution_count": null,
   "metadata": {},
   "outputs": [],
   "source": []
  },
  {
   "cell_type": "code",
   "execution_count": null,
   "metadata": {},
   "outputs": [],
   "source": []
  }
 ],
 "metadata": {
  "celltoolbar": "Raw Cell Format",
  "kernelspec": {
   "display_name": "Python 3",
   "language": "python",
   "name": "python3"
  },
  "language_info": {
   "codemirror_mode": {
    "name": "ipython",
    "version": 3
   },
   "file_extension": ".py",
   "mimetype": "text/x-python",
   "name": "python",
   "nbconvert_exporter": "python",
   "pygments_lexer": "ipython3",
   "version": "3.7.4"
  }
 },
 "nbformat": 4,
 "nbformat_minor": 2
}
